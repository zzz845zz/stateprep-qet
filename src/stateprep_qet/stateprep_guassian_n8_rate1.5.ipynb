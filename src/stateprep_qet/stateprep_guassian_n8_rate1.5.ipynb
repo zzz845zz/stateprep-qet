{
 "cells": [
  {
   "cell_type": "code",
   "execution_count": 1,
   "metadata": {},
   "outputs": [
    {
     "name": "stdout",
     "output_type": "stream",
     "text": [
      "0.73.0\n"
     ]
    }
   ],
   "source": [
    "import numpy as np\n",
    "import classiq\n",
    "from typing import Dict\n",
    "from matplotlib import pyplot as plt\n",
    "from classiq import *\n",
    "from stateprep_qet.utils import (\n",
    "    amp_to_prob,\n",
    "    find_angle,\n",
    "    get_gaussian_amplitude,\n",
    "    h,\n",
    "    h_hat,\n",
    "    normalize,\n",
    ")\n",
    "from classiq.execution import ClassiqBackendPreferences, ExecutionPreferences\n",
    "from classiq.qmod.symbolic import sin\n",
    "import classiq.qmod.symbolic\n",
    "from math import pi\n",
    "classiq.qmod.symbolic.pi._expr = str(pi)\n",
    "print(classiq.__version__)"
   ]
  },
  {
   "cell_type": "markdown",
   "metadata": {},
   "source": [
    "### Setting parameters"
   ]
  },
  {
   "cell_type": "code",
   "execution_count": 2,
   "metadata": {},
   "outputs": [],
   "source": [
    "# Parameter of the Gaussian state preparation\n",
    "NUM_QUBITS = 8  # resolution of input x\n",
    "EXP_RATE = 1.5  # decay rate of the Gaussian\n",
    "MIN = -2  # min x\n",
    "MAX = 2  # max x\n",
    "\n",
    "# Scaled function definition following the paper\n",
    "F = lambda x: np.exp(-EXP_RATE * (x**2))  # Gaussian\n",
    "H_FUNC = h(f=F, min=MIN, max=MAX)\n",
    "POLY_FUNC = h_hat(h=H_FUNC, h_max=F(0))\n",
    "\n",
    "# Even and odd part of the function for the mixed parity QSVT\n",
    "POLY_EVEN = lambda x: (POLY_FUNC(x) + POLY_FUNC(-x))\n",
    "POLY_ODD = lambda x: (POLY_FUNC(x) - POLY_FUNC(-x))\n",
    "\n",
    "# Parameter of the QSVT\n",
    "POLY_DEGREE = 25\n",
    "POLY_MAX_SCALE = 1"
   ]
  },
  {
   "cell_type": "markdown",
   "metadata": {},
   "source": [
    "### Define u_sin circuit"
   ]
  },
  {
   "cell_type": "code",
   "execution_count": 3,
   "metadata": {},
   "outputs": [],
   "source": [
    "# @qfunc\n",
    "# def u_sin(\n",
    "#     x: QNum,\n",
    "#     a1: QNum,\n",
    "# ):\n",
    "#     a1 *= sin(x / (2**NUM_QUBITS))  # Amplitude encoding sin(x) to |1>\n",
    "#     X(a1)  # sin(x) to |0>\n",
    "\n",
    "@qfunc\n",
    "def u_sin(x: QArray[QBit], a: QNum) -> None:\n",
    "    repeat(\n",
    "        count=NUM_QUBITS,\n",
    "        iteration=lambda i: CRY(theta=2 ** (-NUM_QUBITS + i + 1), ctrl=x[i], target=a),\n",
    "    )\n",
    "    X(a)"
   ]
  },
  {
   "cell_type": "markdown",
   "metadata": {},
   "source": [
    "### Define u_f circuit"
   ]
  },
  {
   "cell_type": "code",
   "execution_count": 4,
   "metadata": {},
   "outputs": [],
   "source": [
    "@qfunc\n",
    "def projector_cnot(reg: QNum, aux: QBit) -> None:\n",
    "    control(reg == 0, lambda: X(aux))\n",
    "\n",
    "@qfunc\n",
    "def u_f(\n",
    "    x: QNum,\n",
    "    a1: QNum,\n",
    "    a2_qsvt: QBit,\n",
    "    a3_qsvt: QBit,\n",
    "):\n",
    "    \"\"\"u_{f^{\\tilde}} circuit for state preparation using QET (more generally, QSVT)\n",
    "\n",
    "    Args:\n",
    "        x (Output[QNum]): _description_\n",
    "        a1 (Output[QNum]): _description_\n",
    "        a2_qsvt (Output[QNum]): _description_\n",
    "        a3_qsvt (Output[QNum]): auxiliary qubit for mixed parity QSVT (NOTE: It is unnecessary if f^{\\tilde} has definite parity)\n",
    "    \"\"\"\n",
    "\n",
    "    # Find phase angles\n",
    "    phiset_even = find_angle(POLY_EVEN, POLY_DEGREE + 3, POLY_MAX_SCALE)\n",
    "    phiset_odd = find_angle(POLY_ODD, POLY_DEGREE + 2, POLY_MAX_SCALE)\n",
    "\n",
    "    # Match the length of the phase angles for even and odd parts by adding dummy value\n",
    "    if len(phiset_even) - 1 == len(phiset_odd):\n",
    "        phiset_odd = np.append(phiset_odd, [0])\n",
    "    assert len(phiset_even) == len(phiset_odd)\n",
    "\n",
    "    # Apply mixed parity QSVT\n",
    "    full_reg = QArray[QBit](\"full_reg\")\n",
    "    bind([a1, x], full_reg)\n",
    "    within_apply(\n",
    "        lambda: H(a3_qsvt),\n",
    "        lambda: qsvt_lcu(\n",
    "            phase_seq_even=phiset_odd,\n",
    "            phase_seq_odd=phiset_even,\n",
    "            proj_cnot_1=lambda reg, aux: projector_cnot(\n",
    "                reg[0], aux\n",
    "            ),  # reg==0 representing \"from state\". If the state is \"from state\", then mark aux qubit as |1>\n",
    "            proj_cnot_2=lambda reg, aux: projector_cnot(\n",
    "                reg[0], aux\n",
    "            ),  # reg==0 representing \"to state\". If the state is \"to state\", then mark aux qubit as |1>\n",
    "            u=lambda reg: u_sin(\n",
    "                reg[1 : reg.len], reg[0]\n",
    "            ),  # reg[1:reg.len] is \"x\" and reg[0] is \"a\"\n",
    "            qvar=full_reg,\n",
    "            aux=a2_qsvt,\n",
    "            lcu=a3_qsvt,\n",
    "        ),\n",
    "    )\n",
    "    H(a3_qsvt)\n",
    "    bind(full_reg, [a1, x])\n"
   ]
  },
  {
   "cell_type": "markdown",
   "metadata": {},
   "source": [
    "### Define u_amp circuit"
   ]
  },
  {
   "cell_type": "markdown",
   "metadata": {},
   "source": [
    "State preparation circuit"
   ]
  },
  {
   "cell_type": "code",
   "execution_count": 5,
   "metadata": {},
   "outputs": [],
   "source": [
    "@qfunc\n",
    "def state_prep(reg: QArray[QBit]):\n",
    "    # reg[0:NUM_QUBITS]: x\n",
    "    # reg[NUM_QUBITS]: a1\n",
    "    # reg[NUM_QUBITS + 1]: a2\n",
    "    # reg[NUM_QUBITS + 2]: a3\n",
    "    hadamard_transform(reg[0:NUM_QUBITS])\n",
    "    u_f(reg[0:NUM_QUBITS], reg[NUM_QUBITS], reg[NUM_QUBITS + 1], reg[NUM_QUBITS + 2])\n"
   ]
  },
  {
   "cell_type": "markdown",
   "metadata": {},
   "source": [
    "Oracle circuit"
   ]
  },
  {
   "cell_type": "code",
   "execution_count": 6,
   "metadata": {},
   "outputs": [],
   "source": [
    "@qfunc\n",
    "def check_block(a: QNum, res: QBit):\n",
    "    # Mark if the state is good state.\n",
    "    # Auxiliary qubits are |0> => good state\n",
    "    res ^= a == 0"
   ]
  },
  {
   "cell_type": "markdown",
   "metadata": {},
   "source": [
    "$U_{\\text{amp}}$ circuit"
   ]
  },
  {
   "cell_type": "code",
   "execution_count": 7,
   "metadata": {},
   "outputs": [],
   "source": [
    "@qfunc\n",
    "def u_amp(\n",
    "    x: QNum,\n",
    "    a1: QNum,\n",
    "    a2: QBit,\n",
    "    a3: QBit,\n",
    "):\n",
    "    \"\"\"Amplitude amplification circuit for state preparation using QET (more generally, QSVT)\n",
    "\n",
    "    Args:\n",
    "        x (QNum): Representation of the input x\n",
    "        a1 (QNum): Auxiliary qubit for the u_sin circuit\n",
    "        a2 (QBit): Auxiliary qubit for the QSVT circuit\n",
    "        a3 (QBit): Auxiliary qubit for mixed parity QSVT (NOTE: It is unnecessary if f^{\\tilde} has definite parity)\n",
    "    \"\"\"\n",
    "    amp = get_gaussian_amplitude(\n",
    "        MIN, MAX, mean=0.0, sigma=1.0 / np.sqrt(2 * EXP_RATE)\n",
    "    )\n",
    "    print(\"ampitude:\", amp)\n",
    "\n",
    "    reg = QArray[QBit](\"full_reg\")\n",
    "    bind([x, a1, a2, a3], reg)\n",
    "\n",
    "    exact_amplitude_amplification(\n",
    "        amplitude=amp,\n",
    "        oracle=lambda _reg: phase_oracle(\n",
    "            check_block, _reg[NUM_QUBITS : NUM_QUBITS + 3]\n",
    "        ),\n",
    "        space_transform=lambda _reg: state_prep(_reg),\n",
    "        packed_qvars=reg,\n",
    "    )\n",
    "\n",
    "    bind(reg, [x, a1, a2, a3])"
   ]
  },
  {
   "cell_type": "markdown",
   "metadata": {},
   "source": [
    "### Run"
   ]
  },
  {
   "cell_type": "code",
   "execution_count": null,
   "metadata": {},
   "outputs": [
    {
     "name": "stdout",
     "output_type": "stream",
     "text": [
      "ampitude: 0.36670341649895627\n",
      "[PolyTaylorSeries] (Cheb) max 1.0000330156628245 is at 0.4794169327825695: normalizing\n",
      "[PolyTaylorSeries] (Cheb) average error = 2.1679192116624055e-05 in the domain [-1, 1] using degree 28\n",
      "[PolyTaylorSeries] (Cheb) max 1.0000681134236122 is at 0.47943921000693723: normalizing\n",
      "[PolyTaylorSeries] (Cheb) average error = 4.471261908950233e-05 in the domain [-1, 1] using degree 27\n"
     ]
    }
   ],
   "source": [
    "@qfunc\n",
    "def main(\n",
    "    x: Output[QNum],\n",
    "    a1: Output[QNum],\n",
    "    a2_qsvt: Output[QBit],\n",
    "    a3_qsvt_parity: Output[QBit],\n",
    "):\n",
    "    allocate(NUM_QUBITS, x)\n",
    "    allocate(1, a1)\n",
    "    allocate(1, a2_qsvt)\n",
    "    allocate(1, a3_qsvt_parity)\n",
    "    u_amp(x, a1, a2_qsvt, a3_qsvt_parity)\n",
    "\n",
    "qmod = create_model(\n",
    "    main,\n",
    "    constraints=Constraints(max_width=100),\n",
    "    execution_preferences=ExecutionPreferences(\n",
    "        num_shots=1,\n",
    "        backend_preferences=ClassiqBackendPreferences(\n",
    "            backend_name=\"simulator_statevector\"\n",
    "        ),\n",
    "    ),\n",
    "    preferences = Preferences(timeout_seconds=1800)\n",
    ")\n",
    "\n",
    "qprog = synthesize(qmod)\n",
    "result = execute(qprog).result_value()"
   ]
  },
  {
   "cell_type": "markdown",
   "metadata": {},
   "source": [
    "### Check the result"
   ]
  },
  {
   "cell_type": "code",
   "execution_count": null,
   "metadata": {},
   "outputs": [],
   "source": [
    "from stateprep_qet.utils import get_metrics\n",
    "\n",
    "def parse_qsvt_results(result) -> Dict:\n",
    "    amps: Dict = {x: [] for x in range(2**NUM_QUBITS)}\n",
    "\n",
    "    for parsed_state in result.parsed_state_vector:\n",
    "        if (\n",
    "            parsed_state[\"a1\"] == 0\n",
    "            and parsed_state[\"a2_qsvt\"] == 0\n",
    "            and parsed_state[\"a3_qsvt_parity\"] == 0\n",
    "            and np.linalg.norm(parsed_state.amplitude) > 1e-10\n",
    "        ):\n",
    "            amps[parsed_state[\"x\"]].append(parsed_state.amplitude)\n",
    "\n",
    "    simulated_prob = [amp_to_prob(amp) for amp in amps.values()]\n",
    "    return simulated_prob\n",
    "\n",
    "x = np.linspace(MIN, MAX, 2**NUM_QUBITS)\n",
    "simulated = parse_qsvt_results(result)\n",
    "expected = normalize(\n",
    "    [\n",
    "        amp_to_prob(F(((MAX - MIN) * x / 2**NUM_QUBITS) + MIN))\n",
    "        for x in range(2**NUM_QUBITS)\n",
    "    ]\n",
    ")\n",
    "plt.plot(x, expected, label=\"expected\")\n",
    "plt.plot(x, simulated, label=\"simulated\")\n",
    "plt.legend()\n",
    "plt.show()\n",
    "\n",
    "# Calculate MSE between simulated and expected probabilities\n",
    "mse = np.mean((np.array(simulated) - np.array(expected)) ** 2)\n",
    "print(\"Mean Squared Error (MSE):\", mse)\n",
    "\n",
    "# Print circuit metrics\n",
    "print(get_metrics(qprog))"
   ]
  },
  {
   "cell_type": "code",
   "execution_count": null,
   "metadata": {},
   "outputs": [],
   "source": []
  }
 ],
 "metadata": {
  "kernelspec": {
   "display_name": "stateprep-qet-J28Ziice-py3.12",
   "language": "python",
   "name": "python3"
  },
  "language_info": {
   "codemirror_mode": {
    "name": "ipython",
    "version": 3
   },
   "file_extension": ".py",
   "mimetype": "text/x-python",
   "name": "python",
   "nbconvert_exporter": "python",
   "pygments_lexer": "ipython3",
   "version": "3.12.4"
  }
 },
 "nbformat": 4,
 "nbformat_minor": 2
}
