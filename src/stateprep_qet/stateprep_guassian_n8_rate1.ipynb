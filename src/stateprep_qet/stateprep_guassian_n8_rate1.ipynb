{
 "cells": [
  {
   "cell_type": "code",
   "execution_count": 1,
   "metadata": {},
   "outputs": [
    {
     "name": "stdout",
     "output_type": "stream",
     "text": [
      "0.73.0\n"
     ]
    }
   ],
   "source": [
    "import numpy as np\n",
    "import classiq\n",
    "from typing import Dict\n",
    "from matplotlib import pyplot as plt\n",
    "from classiq import *\n",
    "from stateprep_qet.utils import (\n",
    "    amp_to_prob,\n",
    "    find_angle,\n",
    "    get_gaussian_amplitude,\n",
    "    h,\n",
    "    h_hat,\n",
    "    normalize,\n",
    ")\n",
    "from classiq.execution import ClassiqBackendPreferences, ExecutionPreferences\n",
    "from classiq.qmod.symbolic import sin\n",
    "import classiq.qmod.symbolic\n",
    "from math import pi\n",
    "classiq.qmod.symbolic.pi._expr = str(pi)\n",
    "print(classiq.__version__)"
   ]
  },
  {
   "cell_type": "markdown",
   "metadata": {},
   "source": [
    "### Setting parameters"
   ]
  },
  {
   "cell_type": "code",
   "execution_count": 2,
   "metadata": {},
   "outputs": [],
   "source": [
    "# Parameter of the Gaussian state preparation\n",
    "NUM_QUBITS = 8  # resolution of input x\n",
    "EXP_RATE = 1  # decay rate of the Gaussian\n",
    "MIN = -2  # min x\n",
    "MAX = 2  # max x\n",
    "\n",
    "# Scaled function definition following the paper\n",
    "F = lambda x: np.exp(-EXP_RATE * (x**2))  # Gaussian\n",
    "H_FUNC = h(f=F, min=MIN, max=MAX)\n",
    "POLY_FUNC = h_hat(h=H_FUNC, h_max=F(0))\n",
    "\n",
    "# Even and odd part of the function for the mixed parity QSVT\n",
    "POLY_EVEN = lambda x: (POLY_FUNC(x) + POLY_FUNC(-x))\n",
    "POLY_ODD = lambda x: (POLY_FUNC(x) - POLY_FUNC(-x))\n",
    "\n",
    "# Parameter of the QSVT\n",
    "POLY_DEGREE = 25\n",
    "POLY_MAX_SCALE = 1"
   ]
  },
  {
   "cell_type": "markdown",
   "metadata": {},
   "source": [
    "### Define u_sin circuit"
   ]
  },
  {
   "cell_type": "code",
   "execution_count": 3,
   "metadata": {},
   "outputs": [],
   "source": [
    "@qfunc\n",
    "def u_sin(\n",
    "    x: QNum,\n",
    "    a1: QNum,\n",
    "):\n",
    "    a1 *= sin(x / (2**NUM_QUBITS))  # Amplitude encoding sin(x) to |1>\n",
    "    X(a1)  # sin(x) to |0>"
   ]
  },
  {
   "cell_type": "markdown",
   "metadata": {},
   "source": [
    "### Define u_f circuit"
   ]
  },
  {
   "cell_type": "code",
   "execution_count": 4,
   "metadata": {},
   "outputs": [],
   "source": [
    "@qfunc\n",
    "def projector_cnot(reg: QNum, aux: QBit) -> None:\n",
    "    control(reg == 0, lambda: X(aux))\n",
    "\n",
    "@qfunc\n",
    "def u_f(\n",
    "    x: QNum,\n",
    "    a1: QNum,\n",
    "    a2_qsvt: QBit,\n",
    "    a3_qsvt: QBit,\n",
    "):\n",
    "    \"\"\"u_{f^{\\tilde}} circuit for state preparation using QET (more generally, QSVT)\n",
    "\n",
    "    Args:\n",
    "        x (Output[QNum]): _description_\n",
    "        a1 (Output[QNum]): _description_\n",
    "        a2_qsvt (Output[QNum]): _description_\n",
    "        a3_qsvt (Output[QNum]): auxiliary qubit for mixed parity QSVT (NOTE: It is unnecessary if f^{\\tilde} has definite parity)\n",
    "    \"\"\"\n",
    "\n",
    "    # Find phase angles\n",
    "    phiset_even = find_angle(POLY_EVEN, POLY_DEGREE + 3, POLY_MAX_SCALE)\n",
    "    phiset_odd = find_angle(POLY_ODD, POLY_DEGREE + 2, POLY_MAX_SCALE)\n",
    "\n",
    "    # Match the length of the phase angles for even and odd parts by adding dummy value\n",
    "    if len(phiset_even) - 1 == len(phiset_odd):\n",
    "        phiset_odd = np.append(phiset_odd, [0])\n",
    "    assert len(phiset_even) == len(phiset_odd)\n",
    "\n",
    "    # Apply mixed parity QSVT\n",
    "    full_reg = QArray[QBit](\"full_reg\")\n",
    "    bind([a1, x], full_reg)\n",
    "    within_apply(\n",
    "        lambda: H(a3_qsvt),\n",
    "        lambda: qsvt_lcu(\n",
    "            phase_seq_even=phiset_odd,\n",
    "            phase_seq_odd=phiset_even,\n",
    "            proj_cnot_1=lambda reg, aux: projector_cnot(\n",
    "                reg[0], aux\n",
    "            ),  # reg==0 representing \"from state\". If the state is \"from state\", then mark aux qubit as |1>\n",
    "            proj_cnot_2=lambda reg, aux: projector_cnot(\n",
    "                reg[0], aux\n",
    "            ),  # reg==0 representing \"to state\". If the state is \"to state\", then mark aux qubit as |1>\n",
    "            u=lambda reg: u_sin(\n",
    "                reg[1 : reg.len], reg[0]\n",
    "            ),  # reg[1:reg.len] is \"x\" and reg[0] is \"a\"\n",
    "            qvar=full_reg,\n",
    "            aux=a2_qsvt,\n",
    "            lcu=a3_qsvt,\n",
    "        ),\n",
    "    )\n",
    "    H(a3_qsvt)\n",
    "    bind(full_reg, [a1, x])\n"
   ]
  },
  {
   "cell_type": "markdown",
   "metadata": {},
   "source": [
    "### Define u_amp circuit"
   ]
  },
  {
   "cell_type": "markdown",
   "metadata": {},
   "source": [
    "State preparation circuit"
   ]
  },
  {
   "cell_type": "code",
   "execution_count": 5,
   "metadata": {},
   "outputs": [],
   "source": [
    "@qfunc\n",
    "def state_prep(reg: QArray[QBit]):\n",
    "    # reg[0:NUM_QUBITS]: x\n",
    "    # reg[NUM_QUBITS]: a1\n",
    "    # reg[NUM_QUBITS + 1]: a2\n",
    "    # reg[NUM_QUBITS + 2]: a3\n",
    "    hadamard_transform(reg[0:NUM_QUBITS])\n",
    "    u_f(reg[0:NUM_QUBITS], reg[NUM_QUBITS], reg[NUM_QUBITS + 1], reg[NUM_QUBITS + 2])\n"
   ]
  },
  {
   "cell_type": "markdown",
   "metadata": {},
   "source": [
    "Oracle circuit"
   ]
  },
  {
   "cell_type": "code",
   "execution_count": 6,
   "metadata": {},
   "outputs": [],
   "source": [
    "@qfunc\n",
    "def check_block(a: QNum, res: QBit):\n",
    "    # Mark if the state is good state.\n",
    "    # Auxiliary qubits are |0> => good state\n",
    "    res ^= a == 0"
   ]
  },
  {
   "cell_type": "markdown",
   "metadata": {},
   "source": [
    "$U_{\\text{amp}}$ circuit"
   ]
  },
  {
   "cell_type": "code",
   "execution_count": 7,
   "metadata": {},
   "outputs": [],
   "source": [
    "@qfunc\n",
    "def u_amp(\n",
    "    x: QNum,\n",
    "    a1: QNum,\n",
    "    a2: QBit,\n",
    "    a3: QBit,\n",
    "):\n",
    "    \"\"\"Amplitude amplification circuit for state preparation using QET (more generally, QSVT)\n",
    "\n",
    "    Args:\n",
    "        x (QNum): Representation of the input x\n",
    "        a1 (QNum): Auxiliary qubit for the u_sin circuit\n",
    "        a2 (QBit): Auxiliary qubit for the QSVT circuit\n",
    "        a3 (QBit): Auxiliary qubit for mixed parity QSVT (NOTE: It is unnecessary if f^{\\tilde} has definite parity)\n",
    "    \"\"\"\n",
    "    amp = get_gaussian_amplitude(\n",
    "        MIN, MAX, mean=0.0, sigma=1.0 / np.sqrt(2 * EXP_RATE)\n",
    "    )\n",
    "    print(\"ampitude:\", amp)\n",
    "\n",
    "    reg = QArray[QBit](\"full_reg\")\n",
    "    bind([x, a1, a2, a3], reg)\n",
    "\n",
    "    exact_amplitude_amplification(\n",
    "        amplitude=amp,\n",
    "        oracle=lambda _reg: phase_oracle(\n",
    "            check_block, _reg[NUM_QUBITS : NUM_QUBITS + 3]\n",
    "        ),\n",
    "        space_transform=lambda _reg: state_prep(_reg),\n",
    "        packed_qvars=reg,\n",
    "    )\n",
    "\n",
    "    bind(reg, [x, a1, a2, a3])"
   ]
  },
  {
   "cell_type": "markdown",
   "metadata": {},
   "source": [
    "### Run"
   ]
  },
  {
   "cell_type": "code",
   "execution_count": 8,
   "metadata": {},
   "outputs": [
    {
     "name": "stdout",
     "output_type": "stream",
     "text": [
      "ampitude: 0.40581138324751564\n",
      "[PolyTaylorSeries] (Cheb) max 1.0000002010996418 is at 0.4794252726777788: normalizing\n",
      "[PolyTaylorSeries] (Cheb) average error = 2.3092589728810148e-07 in the domain [-1, 1] using degree 28\n",
      "[PolyTaylorSeries] (Cheb) max 1.0000011023789412 is at -0.47942595331571: normalizing\n",
      "[PolyTaylorSeries] (Cheb) average error = 6.799047156021946e-07 in the domain [-1, 1] using degree 27\n"
     ]
    },
    {
     "ename": "ClassiqAPIError",
     "evalue": "Call to API failed with code 503\nIf you need further assistance, please reach out on our Community Slack channel at: https://short.classiq.io/join-slack or open a support ticket at: https://classiq-community.freshdesk.com/support/tickets/new",
     "output_type": "error",
     "traceback": [
      "\u001b[31m---------------------------------------------------------------------------\u001b[39m",
      "\u001b[31mClassiqAPIError\u001b[39m                           Traceback (most recent call last)",
      "\u001b[36mCell\u001b[39m\u001b[36m \u001b[39m\u001b[32mIn[8]\u001b[39m\u001b[32m, line 26\u001b[39m\n\u001b[32m     12\u001b[39m     u_amp(x, a1, a2_qsvt, a3_qsvt_parity)\n\u001b[32m     14\u001b[39m qmod = create_model(\n\u001b[32m     15\u001b[39m     main,\n\u001b[32m     16\u001b[39m     constraints=Constraints(max_width=\u001b[32m100\u001b[39m),\n\u001b[32m   (...)\u001b[39m\u001b[32m     23\u001b[39m     preferences = Preferences(timeout_seconds=\u001b[32m1800\u001b[39m)\n\u001b[32m     24\u001b[39m )\n\u001b[32m---> \u001b[39m\u001b[32m26\u001b[39m qprog = \u001b[43msynthesize\u001b[49m\u001b[43m(\u001b[49m\u001b[43mqmod\u001b[49m\u001b[43m)\u001b[49m\n\u001b[32m     27\u001b[39m result = execute(qprog).result_value()\n",
      "\u001b[36mFile \u001b[39m\u001b[32mc:\\Users\\Seungmin Jeon\\AppData\\Local\\pypoetry\\Cache\\virtualenvs\\stateprep-qet-J28Ziice-py3.12\\Lib\\site-packages\\classiq\\synthesis.py:101\u001b[39m, in \u001b[36msynthesize\u001b[39m\u001b[34m(model, auto_show, constraints, preferences)\u001b[39m\n\u001b[32m     99\u001b[39m \u001b[38;5;28;01melse\u001b[39;00m:\n\u001b[32m    100\u001b[39m     serialized_model = model\n\u001b[32m--> \u001b[39m\u001b[32m101\u001b[39m result = \u001b[43masync_utils\u001b[49m\u001b[43m.\u001b[49m\u001b[43mrun\u001b[49m\u001b[43m(\u001b[49m\u001b[43msynthesize_async\u001b[49m\u001b[43m(\u001b[49m\u001b[43mserialized_model\u001b[49m\u001b[43m)\u001b[49m\u001b[43m)\u001b[49m\n\u001b[32m    102\u001b[39m \u001b[38;5;28;01mif\u001b[39;00m auto_show:\n\u001b[32m    103\u001b[39m     show(result)\n",
      "\u001b[36mFile \u001b[39m\u001b[32mc:\\Users\\Seungmin Jeon\\AppData\\Local\\pypoetry\\Cache\\virtualenvs\\stateprep-qet-J28Ziice-py3.12\\Lib\\site-packages\\classiq\\_internals\\async_utils.py:37\u001b[39m, in \u001b[36mrun\u001b[39m\u001b[34m(coro)\u001b[39m\n\u001b[32m     32\u001b[39m \u001b[38;5;28;01mdef\u001b[39;00m\u001b[38;5;250m \u001b[39m\u001b[34mrun\u001b[39m(coro: Awaitable[T]) -> T:\n\u001b[32m     33\u001b[39m     \u001b[38;5;66;03m# Use this function instead of asyncio.run, since it ALWAYS\u001b[39;00m\n\u001b[32m     34\u001b[39m     \u001b[38;5;66;03m# creates a new event loop and clears the thread event loop.\u001b[39;00m\n\u001b[32m     35\u001b[39m     \u001b[38;5;66;03m# Never use asyncio.run in library code.\u001b[39;00m\n\u001b[32m     36\u001b[39m     loop = get_event_loop()\n\u001b[32m---> \u001b[39m\u001b[32m37\u001b[39m     \u001b[38;5;28;01mreturn\u001b[39;00m \u001b[43mloop\u001b[49m\u001b[43m.\u001b[49m\u001b[43mrun_until_complete\u001b[49m\u001b[43m(\u001b[49m\u001b[43mcoro\u001b[49m\u001b[43m)\u001b[49m\n",
      "\u001b[36mFile \u001b[39m\u001b[32mc:\\Users\\Seungmin Jeon\\AppData\\Local\\pypoetry\\Cache\\virtualenvs\\stateprep-qet-J28Ziice-py3.12\\Lib\\site-packages\\nest_asyncio.py:98\u001b[39m, in \u001b[36m_patch_loop.<locals>.run_until_complete\u001b[39m\u001b[34m(self, future)\u001b[39m\n\u001b[32m     95\u001b[39m \u001b[38;5;28;01mif\u001b[39;00m \u001b[38;5;129;01mnot\u001b[39;00m f.done():\n\u001b[32m     96\u001b[39m     \u001b[38;5;28;01mraise\u001b[39;00m \u001b[38;5;167;01mRuntimeError\u001b[39;00m(\n\u001b[32m     97\u001b[39m         \u001b[33m'\u001b[39m\u001b[33mEvent loop stopped before Future completed.\u001b[39m\u001b[33m'\u001b[39m)\n\u001b[32m---> \u001b[39m\u001b[32m98\u001b[39m \u001b[38;5;28;01mreturn\u001b[39;00m \u001b[43mf\u001b[49m\u001b[43m.\u001b[49m\u001b[43mresult\u001b[49m\u001b[43m(\u001b[49m\u001b[43m)\u001b[49m\n",
      "\u001b[36mFile \u001b[39m\u001b[32m~\\AppData\\Local\\Programs\\Python\\Python312\\Lib\\asyncio\\futures.py:203\u001b[39m, in \u001b[36mFuture.result\u001b[39m\u001b[34m(self)\u001b[39m\n\u001b[32m    201\u001b[39m \u001b[38;5;28mself\u001b[39m.__log_traceback = \u001b[38;5;28;01mFalse\u001b[39;00m\n\u001b[32m    202\u001b[39m \u001b[38;5;28;01mif\u001b[39;00m \u001b[38;5;28mself\u001b[39m._exception \u001b[38;5;129;01mis\u001b[39;00m \u001b[38;5;129;01mnot\u001b[39;00m \u001b[38;5;28;01mNone\u001b[39;00m:\n\u001b[32m--> \u001b[39m\u001b[32m203\u001b[39m     \u001b[38;5;28;01mraise\u001b[39;00m \u001b[38;5;28mself\u001b[39m._exception.with_traceback(\u001b[38;5;28mself\u001b[39m._exception_tb)\n\u001b[32m    204\u001b[39m \u001b[38;5;28;01mreturn\u001b[39;00m \u001b[38;5;28mself\u001b[39m._result\n",
      "\u001b[36mFile \u001b[39m\u001b[32m~\\AppData\\Local\\Programs\\Python\\Python312\\Lib\\asyncio\\tasks.py:314\u001b[39m, in \u001b[36mTask.__step_run_and_handle_result\u001b[39m\u001b[34m(***failed resolving arguments***)\u001b[39m\n\u001b[32m    310\u001b[39m \u001b[38;5;28;01mtry\u001b[39;00m:\n\u001b[32m    311\u001b[39m     \u001b[38;5;28;01mif\u001b[39;00m exc \u001b[38;5;129;01mis\u001b[39;00m \u001b[38;5;28;01mNone\u001b[39;00m:\n\u001b[32m    312\u001b[39m         \u001b[38;5;66;03m# We use the `send` method directly, because coroutines\u001b[39;00m\n\u001b[32m    313\u001b[39m         \u001b[38;5;66;03m# don't have `__iter__` and `__next__` methods.\u001b[39;00m\n\u001b[32m--> \u001b[39m\u001b[32m314\u001b[39m         result = \u001b[43mcoro\u001b[49m\u001b[43m.\u001b[49m\u001b[43msend\u001b[49m\u001b[43m(\u001b[49m\u001b[38;5;28;43;01mNone\u001b[39;49;00m\u001b[43m)\u001b[49m\n\u001b[32m    315\u001b[39m     \u001b[38;5;28;01melse\u001b[39;00m:\n\u001b[32m    316\u001b[39m         result = coro.throw(exc)\n",
      "\u001b[36mFile \u001b[39m\u001b[32mc:\\Users\\Seungmin Jeon\\AppData\\Local\\pypoetry\\Cache\\virtualenvs\\stateprep-qet-J28Ziice-py3.12\\Lib\\site-packages\\classiq\\synthesis.py:68\u001b[39m, in \u001b[36msynthesize_async\u001b[39m\u001b[34m(serialized_model)\u001b[39m\n\u001b[32m     64\u001b[39m \u001b[38;5;28;01masync\u001b[39;00m \u001b[38;5;28;01mdef\u001b[39;00m\u001b[38;5;250m \u001b[39m\u001b[34msynthesize_async\u001b[39m(\n\u001b[32m     65\u001b[39m     serialized_model: SerializedModel,\n\u001b[32m     66\u001b[39m ) -> SerializedQuantumProgram:\n\u001b[32m     67\u001b[39m     model = Model.model_validate_json(serialized_model)\n\u001b[32m---> \u001b[39m\u001b[32m68\u001b[39m     quantum_program = \u001b[38;5;28;01mawait\u001b[39;00m ApiWrapper.call_generation_task(model)\n\u001b[32m     69\u001b[39m     \u001b[38;5;28;01mreturn\u001b[39;00m SerializedQuantumProgram(quantum_program.model_dump_json(indent=\u001b[32m2\u001b[39m))\n",
      "\u001b[36mFile \u001b[39m\u001b[32mc:\\Users\\Seungmin Jeon\\AppData\\Local\\pypoetry\\Cache\\virtualenvs\\stateprep-qet-J28Ziice-py3.12\\Lib\\site-packages\\classiq\\_internals\\api_wrapper.py:119\u001b[39m, in \u001b[36mApiWrapper.call_generation_task\u001b[39m\u001b[34m(cls, model, http_client)\u001b[39m\n\u001b[32m    113\u001b[39m \u001b[38;5;129m@classmethod\u001b[39m\n\u001b[32m    114\u001b[39m \u001b[38;5;28;01masync\u001b[39;00m \u001b[38;5;28;01mdef\u001b[39;00m\u001b[38;5;250m \u001b[39m\u001b[34mcall_generation_task\u001b[39m(\n\u001b[32m    115\u001b[39m     \u001b[38;5;28mcls\u001b[39m,\n\u001b[32m    116\u001b[39m     model: Model,\n\u001b[32m    117\u001b[39m     http_client: Optional[httpx.AsyncClient] = \u001b[38;5;28;01mNone\u001b[39;00m,\n\u001b[32m    118\u001b[39m ) -> generator_result.QuantumProgram:\n\u001b[32m--> \u001b[39m\u001b[32m119\u001b[39m     poller = \u001b[43mJobPoller\u001b[49m\u001b[43m(\u001b[49m\u001b[43mbase_url\u001b[49m\u001b[43m=\u001b[49m\u001b[43mroutes\u001b[49m\u001b[43m.\u001b[49m\u001b[43mTASKS_GENERATE_FULL_PATH\u001b[49m\u001b[43m)\u001b[49m\n\u001b[32m    120\u001b[39m     result = \u001b[38;5;28;01mawait\u001b[39;00m poller.run_pydantic(\n\u001b[32m    121\u001b[39m         model, timeout_sec=\u001b[38;5;28;01mNone\u001b[39;00m, http_client=http_client\n\u001b[32m    122\u001b[39m     )\n\u001b[32m    123\u001b[39m     \u001b[38;5;28;01mreturn\u001b[39;00m _parse_job_response(result, generator_result.QuantumProgram)\n",
      "\u001b[36mFile \u001b[39m\u001b[32mc:\\Users\\Seungmin Jeon\\AppData\\Local\\pypoetry\\Cache\\virtualenvs\\stateprep-qet-J28Ziice-py3.12\\Lib\\site-packages\\classiq\\_internals\\jobs.py:60\u001b[39m, in \u001b[36mJobPoller.__init__\u001b[39m\u001b[34m(self, base_url, use_versioned_url, additional_headers)\u001b[39m\n\u001b[32m     53\u001b[39m \u001b[38;5;28;01mdef\u001b[39;00m\u001b[38;5;250m \u001b[39m\u001b[34m__init__\u001b[39m(\n\u001b[32m     54\u001b[39m     \u001b[38;5;28mself\u001b[39m,\n\u001b[32m     55\u001b[39m     base_url: \u001b[38;5;28mstr\u001b[39m,\n\u001b[32m     56\u001b[39m     use_versioned_url: \u001b[38;5;28mbool\u001b[39m = \u001b[38;5;28;01mTrue\u001b[39;00m,\n\u001b[32m     57\u001b[39m     additional_headers: Optional[\u001b[38;5;28mdict\u001b[39m[\u001b[38;5;28mstr\u001b[39m, \u001b[38;5;28mstr\u001b[39m]] = \u001b[38;5;28;01mNone\u001b[39;00m,\n\u001b[32m     58\u001b[39m ) -> \u001b[38;5;28;01mNone\u001b[39;00m:\n\u001b[32m     59\u001b[39m     \u001b[38;5;28mself\u001b[39m._additional_headers = additional_headers\n\u001b[32m---> \u001b[39m\u001b[32m60\u001b[39m     client_instance = \u001b[43mclient\u001b[49m\u001b[43m(\u001b[49m\u001b[43m)\u001b[49m\n\u001b[32m     61\u001b[39m     \u001b[38;5;28mself\u001b[39m._base_url = (\n\u001b[32m     62\u001b[39m         client_instance.make_versioned_url(base_url)\n\u001b[32m     63\u001b[39m         \u001b[38;5;28;01mif\u001b[39;00m use_versioned_url\n\u001b[32m     64\u001b[39m         \u001b[38;5;28;01melse\u001b[39;00m base_url\n\u001b[32m     65\u001b[39m     )\n\u001b[32m     66\u001b[39m     \u001b[38;5;28mself\u001b[39m._mode = client_instance.config.mode\n",
      "\u001b[36mFile \u001b[39m\u001b[32mc:\\Users\\Seungmin Jeon\\AppData\\Local\\pypoetry\\Cache\\virtualenvs\\stateprep-qet-J28Ziice-py3.12\\Lib\\site-packages\\classiq\\_internals\\client.py:367\u001b[39m, in \u001b[36mclient\u001b[39m\u001b[34m()\u001b[39m\n\u001b[32m    364\u001b[39m \u001b[38;5;28;01mglobal\u001b[39;00m DEFAULT_CLIENT\n\u001b[32m    365\u001b[39m \u001b[38;5;28;01mif\u001b[39;00m DEFAULT_CLIENT \u001b[38;5;129;01mis\u001b[39;00m \u001b[38;5;28;01mNone\u001b[39;00m:\n\u001b[32m    366\u001b[39m     \u001b[38;5;66;03m# This call initializes DEFAULT_CLIENT\u001b[39;00m\n\u001b[32m--> \u001b[39m\u001b[32m367\u001b[39m     \u001b[43mconfigure\u001b[49m\u001b[43m(\u001b[49m\u001b[43mconfig\u001b[49m\u001b[43m.\u001b[49m\u001b[43minit\u001b[49m\u001b[43m(\u001b[49m\u001b[43m)\u001b[49m\u001b[43m)\u001b[49m\n\u001b[32m    368\u001b[39m \u001b[38;5;28;01massert\u001b[39;00m DEFAULT_CLIENT \u001b[38;5;129;01mis\u001b[39;00m \u001b[38;5;129;01mnot\u001b[39;00m \u001b[38;5;28;01mNone\u001b[39;00m\n\u001b[32m    369\u001b[39m \u001b[38;5;28;01mreturn\u001b[39;00m DEFAULT_CLIENT\n",
      "\u001b[36mFile \u001b[39m\u001b[32mc:\\Users\\Seungmin Jeon\\AppData\\Local\\pypoetry\\Cache\\virtualenvs\\stateprep-qet-J28Ziice-py3.12\\Lib\\site-packages\\classiq\\_internals\\client.py:377\u001b[39m, in \u001b[36mconfigure\u001b[39m\u001b[34m(conf)\u001b[39m\n\u001b[32m    375\u001b[39m DEFAULT_CLIENT = Client(conf=conf)\n\u001b[32m    376\u001b[39m \u001b[38;5;28;01mif\u001b[39;00m conf.should_check_host:\n\u001b[32m--> \u001b[39m\u001b[32m377\u001b[39m     \u001b[43mDEFAULT_CLIENT\u001b[49m\u001b[43m.\u001b[49m\u001b[43mcheck_host\u001b[49m\u001b[43m(\u001b[49m\u001b[43m)\u001b[49m\n",
      "\u001b[36mFile \u001b[39m\u001b[32mc:\\Users\\Seungmin Jeon\\AppData\\Local\\pypoetry\\Cache\\virtualenvs\\stateprep-qet-J28Ziice-py3.12\\Lib\\site-packages\\classiq\\_internals\\client.py:349\u001b[39m, in \u001b[36mClient.check_host\u001b[39m\u001b[34m(self)\u001b[39m\n\u001b[32m    338\u001b[39m \u001b[38;5;28;01mdef\u001b[39;00m\u001b[38;5;250m \u001b[39m\u001b[34mcheck_host\u001b[39m(\u001b[38;5;28mself\u001b[39m) -> \u001b[38;5;28;01mNone\u001b[39;00m:\n\u001b[32m    339\u001b[39m     \u001b[38;5;66;03m# This function is NOT async (despite the fact that it can be) because it's called from a non-async context.\u001b[39;00m\n\u001b[32m    340\u001b[39m     \u001b[38;5;66;03m# If this happens when we already run in an event loop (e.g. inside a call to asyncio.run), we can't go in to\u001b[39;00m\n\u001b[32m   (...)\u001b[39m\u001b[32m    346\u001b[39m     \u001b[38;5;66;03m# Since this happened once, we'll leave it for now. If it happens again, we should split the Client\u001b[39;00m\n\u001b[32m    347\u001b[39m     \u001b[38;5;66;03m# into a low level client for accessing the server and a high level client.\u001b[39;00m\n\u001b[32m    348\u001b[39m     checker = HostChecker(\u001b[38;5;28mself\u001b[39m, client_version=_VERSION)\n\u001b[32m--> \u001b[39m\u001b[32m349\u001b[39m     \u001b[43mchecker\u001b[49m\u001b[43m.\u001b[49m\u001b[43mcheck_host_version\u001b[49m\u001b[43m(\u001b[49m\u001b[43m)\u001b[49m\n\u001b[32m    350\u001b[39m     checker.check_deprecated_version()\n",
      "\u001b[36mFile \u001b[39m\u001b[32mc:\\Users\\Seungmin Jeon\\AppData\\Local\\pypoetry\\Cache\\virtualenvs\\stateprep-qet-J28Ziice-py3.12\\Lib\\site-packages\\classiq\\_internals\\host_checker.py:77\u001b[39m, in \u001b[36mHostChecker.check_host_version\u001b[39m\u001b[34m(self)\u001b[39m\n\u001b[32m     75\u001b[39m \u001b[38;5;28;01mdef\u001b[39;00m\u001b[38;5;250m \u001b[39m\u001b[34mcheck_host_version\u001b[39m(\u001b[38;5;28mself\u001b[39m) -> \u001b[38;5;28;01mNone\u001b[39;00m:\n\u001b[32m     76\u001b[39m     \u001b[38;5;28;01mtry\u001b[39;00m:\n\u001b[32m---> \u001b[39m\u001b[32m77\u001b[39m         interface_version = \u001b[38;5;28;43mself\u001b[39;49m\u001b[43m.\u001b[49m\u001b[43m_get_interface_version\u001b[49m\u001b[43m(\u001b[49m\u001b[43m)\u001b[49m\n\u001b[32m     78\u001b[39m     \u001b[38;5;28;01mexcept\u001b[39;00m httpx.ConnectError:\n\u001b[32m     79\u001b[39m         _logger.warning(\n\u001b[32m     80\u001b[39m             \u001b[33m\"\u001b[39m\u001b[33mVersion check failed - host unavailable.\u001b[39m\u001b[33m\"\u001b[39m,\n\u001b[32m     81\u001b[39m         )\n",
      "\u001b[36mFile \u001b[39m\u001b[32mc:\\Users\\Seungmin Jeon\\AppData\\Local\\pypoetry\\Cache\\virtualenvs\\stateprep-qet-J28Ziice-py3.12\\Lib\\site-packages\\classiq\\_internals\\host_checker.py:43\u001b[39m, in \u001b[36mHostChecker._get_interface_version\u001b[39m\u001b[34m(self)\u001b[39m\n\u001b[32m     41\u001b[39m \u001b[38;5;28;01mdef\u001b[39;00m\u001b[38;5;250m \u001b[39m\u001b[34m_get_interface_version\u001b[39m(\u001b[38;5;28mself\u001b[39m) -> Optional[\u001b[38;5;28mstr\u001b[39m]:\n\u001b[32m     42\u001b[39m     global_interfaces = GlobalVersions.model_validate(\n\u001b[32m---> \u001b[39m\u001b[32m43\u001b[39m         \u001b[38;5;28;43mself\u001b[39;49m\u001b[43m.\u001b[49m\u001b[43m_client\u001b[49m\u001b[43m.\u001b[49m\u001b[43msync_call_api\u001b[49m\u001b[43m(\u001b[49m\n\u001b[32m     44\u001b[39m \u001b[43m            \u001b[49m\u001b[33;43m\"\u001b[39;49m\u001b[33;43mget\u001b[39;49m\u001b[33;43m\"\u001b[39;49m\u001b[43m,\u001b[49m\u001b[43m \u001b[49m\u001b[33;43m\"\u001b[39;49m\u001b[33;43m/interface_versions\u001b[39;49m\u001b[33;43m\"\u001b[39;49m\u001b[43m,\u001b[49m\u001b[43m \u001b[49m\u001b[43muse_versioned_url\u001b[49m\u001b[43m=\u001b[49m\u001b[38;5;28;43;01mFalse\u001b[39;49;00m\n\u001b[32m     45\u001b[39m \u001b[43m        \u001b[49m\u001b[43m)\u001b[49m\n\u001b[32m     46\u001b[39m     )\n\u001b[32m     47\u001b[39m     \u001b[38;5;28;01mreturn\u001b[39;00m global_interfaces.deployed.get(\u001b[38;5;28mself\u001b[39m._interface_version, \u001b[38;5;28;01mNone\u001b[39;00m)\n",
      "\u001b[36mFile \u001b[39m\u001b[32mc:\\Users\\Seungmin Jeon\\AppData\\Local\\pypoetry\\Cache\\virtualenvs\\stateprep-qet-J28Ziice-py3.12\\Lib\\site-packages\\classiq\\_internals\\client.py:316\u001b[39m, in \u001b[36mClient.sync_call_api\u001b[39m\u001b[34m(self, http_method, url, body, headers, use_versioned_url)\u001b[39m\n\u001b[32m    312\u001b[39m \u001b[38;5;28;01mwith\u001b[39;00m httpx.Client(**\u001b[38;5;28mself\u001b[39m._make_client_args()) \u001b[38;5;28;01mas\u001b[39;00m sync_client:\n\u001b[32m    313\u001b[39m     response = sync_client.request(\n\u001b[32m    314\u001b[39m         method=http_method, url=url, json=body, headers=headers\n\u001b[32m    315\u001b[39m     )\n\u001b[32m--> \u001b[39m\u001b[32m316\u001b[39m     \u001b[38;5;28;43mself\u001b[39;49m\u001b[43m.\u001b[49m\u001b[43mhandle_response\u001b[49m\u001b[43m(\u001b[49m\u001b[43mresponse\u001b[49m\u001b[43m)\u001b[49m\n\u001b[32m    317\u001b[39m     \u001b[38;5;28;01mreturn\u001b[39;00m response.json()\n",
      "\u001b[36mFile \u001b[39m\u001b[32mc:\\Users\\Seungmin Jeon\\AppData\\Local\\pypoetry\\Cache\\virtualenvs\\stateprep-qet-J28Ziice-py3.12\\Lib\\site-packages\\classiq\\_internals\\client.py:207\u001b[39m, in \u001b[36mClient.handle_response\u001b[39m\u001b[34m(self, response)\u001b[39m\n\u001b[32m    205\u001b[39m \u001b[38;5;28mself\u001b[39m._handle_warnings(response)\n\u001b[32m    206\u001b[39m \u001b[38;5;28;01mif\u001b[39;00m response.is_error:\n\u001b[32m--> \u001b[39m\u001b[32m207\u001b[39m     \u001b[38;5;28;43mself\u001b[39;49m\u001b[43m.\u001b[49m\u001b[43m_handle_error\u001b[49m\u001b[43m(\u001b[49m\u001b[43mresponse\u001b[49m\u001b[43m)\u001b[49m\n\u001b[32m    208\u001b[39m \u001b[38;5;28mself\u001b[39m._handle_success(response)\n",
      "\u001b[36mFile \u001b[39m\u001b[32mc:\\Users\\Seungmin Jeon\\AppData\\Local\\pypoetry\\Cache\\virtualenvs\\stateprep-qet-J28Ziice-py3.12\\Lib\\site-packages\\classiq\\_internals\\client.py:226\u001b[39m, in \u001b[36mClient._handle_error\u001b[39m\u001b[34m(response)\u001b[39m\n\u001b[32m    224\u001b[39m \u001b[38;5;28;01mexcept\u001b[39;00m \u001b[38;5;167;01mException\u001b[39;00m:  \u001b[38;5;66;03m# noqa: S110\u001b[39;00m\n\u001b[32m    225\u001b[39m     \u001b[38;5;28;01mpass\u001b[39;00m\n\u001b[32m--> \u001b[39m\u001b[32m226\u001b[39m \u001b[38;5;28;01mraise\u001b[39;00m ClassiqAPIError(message, response.status_code)\n",
      "\u001b[31mClassiqAPIError\u001b[39m: Call to API failed with code 503\nIf you need further assistance, please reach out on our Community Slack channel at: https://short.classiq.io/join-slack or open a support ticket at: https://classiq-community.freshdesk.com/support/tickets/new"
     ]
    }
   ],
   "source": [
    "@qfunc\n",
    "def main(\n",
    "    x: Output[QNum],\n",
    "    a1: Output[QNum],\n",
    "    a2_qsvt: Output[QBit],\n",
    "    a3_qsvt_parity: Output[QBit],\n",
    "):\n",
    "    allocate(NUM_QUBITS, x)\n",
    "    allocate(1, a1)\n",
    "    allocate(1, a2_qsvt)\n",
    "    allocate(1, a3_qsvt_parity)\n",
    "    u_amp(x, a1, a2_qsvt, a3_qsvt_parity)\n",
    "\n",
    "qmod = create_model(\n",
    "    main,\n",
    "    constraints=Constraints(max_width=100),\n",
    "    execution_preferences=ExecutionPreferences(\n",
    "        num_shots=1,\n",
    "        backend_preferences=ClassiqBackendPreferences(\n",
    "            backend_name=\"simulator_statevector\"\n",
    "        ),\n",
    "    ),\n",
    "    preferences = Preferences(timeout_seconds=1800)\n",
    ")\n",
    "\n",
    "qprog = synthesize(qmod)\n",
    "result = execute(qprog).result_value()"
   ]
  },
  {
   "cell_type": "markdown",
   "metadata": {},
   "source": [
    "### Check the result"
   ]
  },
  {
   "cell_type": "code",
   "execution_count": null,
   "metadata": {},
   "outputs": [],
   "source": [
    "from stateprep_qet.utils import get_metrics\n",
    "\n",
    "def parse_qsvt_results(result) -> Dict:\n",
    "    amps: Dict = {x: [] for x in range(2**NUM_QUBITS)}\n",
    "\n",
    "    for parsed_state in result.parsed_state_vector:\n",
    "        if (\n",
    "            parsed_state[\"a1\"] == 0\n",
    "            and parsed_state[\"a2_qsvt\"] == 0\n",
    "            and parsed_state[\"a3_qsvt_parity\"] == 0\n",
    "            and np.linalg.norm(parsed_state.amplitude) > 1e-10\n",
    "        ):\n",
    "            amps[parsed_state[\"x\"]].append(parsed_state.amplitude)\n",
    "\n",
    "    simulated_prob = [amp_to_prob(amp) for amp in amps.values()]\n",
    "    return simulated_prob\n",
    "\n",
    "x = np.linspace(MIN, MAX, 2**NUM_QUBITS)\n",
    "simulated = parse_qsvt_results(result)\n",
    "expected = normalize(\n",
    "    [\n",
    "        amp_to_prob(F(((MAX - MIN) * x / 2**NUM_QUBITS) + MIN))\n",
    "        for x in range(2**NUM_QUBITS)\n",
    "    ]\n",
    ")\n",
    "plt.plot(x, expected, label=\"expected\")\n",
    "plt.plot(x, simulated, label=\"simulated\")\n",
    "plt.legend()\n",
    "plt.show()\n",
    "\n",
    "# Calculate MSE between simulated and expected probabilities\n",
    "mse = np.mean((np.array(simulated) - np.array(expected)) ** 2)\n",
    "print(\"Mean Squared Error (MSE):\", mse)\n",
    "\n",
    "# Print circuit metrics\n",
    "print(get_metrics(qprog))"
   ]
  },
  {
   "cell_type": "code",
   "execution_count": null,
   "metadata": {},
   "outputs": [],
   "source": []
  }
 ],
 "metadata": {
  "kernelspec": {
   "display_name": "stateprep-qet-J28Ziice-py3.12",
   "language": "python",
   "name": "python3"
  },
  "language_info": {
   "codemirror_mode": {
    "name": "ipython",
    "version": 3
   },
   "file_extension": ".py",
   "mimetype": "text/x-python",
   "name": "python",
   "nbconvert_exporter": "python",
   "pygments_lexer": "ipython3",
   "version": "3.12.4"
  }
 },
 "nbformat": 4,
 "nbformat_minor": 2
}
