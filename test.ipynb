{
 "cells": [
  {
   "cell_type": "code",
   "execution_count": null,
   "metadata": {},
   "outputs": [],
   "source": [
    "import numpy as np\n",
    "\n",
    "def discretized_l2_norm(f, N, a, b):\n",
    "    \"\"\"\n",
    "    Compute the discretized L2-norm of the function f over the interval [a, b] with N points.\n",
    "\n",
    "    Args:\n",
    "        f (function): The function to evaluate.\n",
    "        N (int): The number of discretization points.\n",
    "        a (float): The start of the interval.\n",
    "        b (float): The end of the interval.\n",
    "\n",
    "    Returns:\n",
    "        float: The discretized L2-norm of the function.\n",
    "    \"\"\"\n",
    "    x = np.linspace(a, b, N)\n",
    "    f_values = f(x)\n",
    "    l2_norm = np.sqrt((b - a) / N * np.sum(np.abs(f_values) ** 2))\n",
    "    return l2_norm\n",
    "\n",
    "def l2_norm_filling_fraction(f, N, a, b):\n",
    "    \"\"\"\n",
    "    Compute the L2-norm filling-fraction of the function f over the interval [a, b] with N points.\n",
    "\n",
    "    Args:\n",
    "        f (function): The function to evaluate.\n",
    "        N (int): The number of discretization points.\n",
    "        a (float): The start of the interval.\n",
    "        b (float): The end of the interval.\n",
    "\n",
    "    Returns:\n",
    "        float: The L2-norm filling-fraction of the function.\n",
    "    \"\"\"\n",
    "    l2_norm_discretized = discretized_l2_norm(f, N, a, b)\n",
    "    f_max = np.max(np.abs(f(np.linspace(a, b, N))))\n",
    "    # l2_norm_continuous = np.sqrt(np.trapz(np.abs(f(np.linspace(a, b, 1000))) ** 2, np.linspace(a, b, 1000)))\n",
    "    filling_fraction = l2_norm_discretized / np.sqrt((b - a) * f_max ** 2)\n",
    "    return filling_fraction"
   ]
  },
  {
   "cell_type": "code",
   "execution_count": null,
   "metadata": {},
   "outputs": [
    {
     "data": {
      "text/plain": [
       "Discretized L2-norm: 0.48831986686920187\n",
       "L2-norm filling-fraction: 0.641181215809598\n"
      ]
     },
     "metadata": {},
     "output_type": "display_data"
    }
   ],
   "source": [
    "# Example usage\n",
    "def example_function(x):\n",
    "    return np.tanh(x)\n",
    "\n",
    "a = 0\n",
    "b = 1\n",
    "N = 2**10\n",
    "\n",
    "discretized_norm = discretized_l2_norm(example_function, N, a, b)\n",
    "filling_fraction = l2_norm_filling_fraction(example_function, N, a, b)\n",
    "\n",
    "print(\"Discretized L2-norm:\", discretized_norm)\n",
    "print(\"L2-norm filling-fraction:\", filling_fraction)"
   ]
  },
  {
   "cell_type": "code",
   "execution_count": null,
   "metadata": {},
   "outputs": [],
   "source": []
  }
 ],
 "metadata": {
  "language_info": {
   "name": "python"
  }
 },
 "nbformat": 4,
 "nbformat_minor": 2
}
