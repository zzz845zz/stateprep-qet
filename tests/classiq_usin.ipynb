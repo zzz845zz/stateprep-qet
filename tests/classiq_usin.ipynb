{
 "cells": [
  {
   "cell_type": "markdown",
   "metadata": {},
   "source": [
    "Testing the complexity of u_sin implemented by `amplitude encoding assignment`"
   ]
  },
  {
   "cell_type": "code",
   "execution_count": 1,
   "metadata": {},
   "outputs": [
    {
     "name": "stdout",
     "output_type": "stream",
     "text": [
      "Classiq version: 0.72.0\n"
     ]
    }
   ],
   "source": [
    "import classiq\n",
    "from classiq import *\n",
    "from classiq.execution import ClassiqBackendPreferences, ExecutionPreferences\n",
    "from classiq.qmod.symbolic import sin, cos\n",
    "print(\"Classiq version:\", classiq.__version__)"
   ]
  },
  {
   "cell_type": "code",
   "execution_count": 4,
   "metadata": {},
   "outputs": [],
   "source": [
    "def get_metrics(qprog):\n",
    "    \"\"\"\n",
    "    Extract circuit metrics from a quantum program.\n",
    "\n",
    "    Parameters:\n",
    "        qprog: The quantum program object.\n",
    "\n",
    "    Returns:\n",
    "        dict: A dictionary containing the circuit metrics:\n",
    "              - \"depth\": Circuit depth.\n",
    "              - \"width\": Circuit width (number of qubits used).\n",
    "              - \"cx_count\": Number of CX gates (returns 0 if none are present).\n",
    "    \"\"\"\n",
    "    # Generate the optimized quantum circuit\n",
    "    circuit = QuantumProgram.from_qprog(qprog)\n",
    "\n",
    "    # Extract metrics\n",
    "    metrics = {\n",
    "        \"depth\": circuit.transpiled_circuit.depth,\n",
    "        \"width\": circuit.data.width,\n",
    "        \"cx_count\": circuit.transpiled_circuit.count_ops.get('cx', 0)  # Default to 0 if 'cx' not found\n",
    "    }\n",
    "\n",
    "    return metrics\n",
    "\n",
    "def create_classis_program(num_qubits):\n",
    "    @qfunc\n",
    "    def u_sin(x: QNum, a: QNum) -> None:\n",
    "        a *= sin(x / (2**num_qubits))  # Amplitude encoding sin(x) to |1>\n",
    "        X(a)  # sin(x) to |0>\n",
    "\n",
    "\n",
    "    @qfunc\n",
    "    def main(x: Output[QNum], ind: Output[QNum]):\n",
    "        allocate(num_qubits, x)\n",
    "        allocate(1, ind)\n",
    "        u_sin(x, ind)\n",
    "\n",
    "    qmod = create_model(\n",
    "        main,\n",
    "        constraints=Constraints(max_width=100),\n",
    "        execution_preferences=ExecutionPreferences(\n",
    "            num_shots=1,\n",
    "            backend_preferences=ClassiqBackendPreferences(\n",
    "                backend_name=\"simulator_statevector\"\n",
    "            ),\n",
    "        ),\n",
    "        # out_file=\"qsvt\",\n",
    "    )\n",
    "    qprog = synthesize(qmod)\n",
    "    return qprog"
   ]
  },
  {
   "cell_type": "code",
   "execution_count": 5,
   "metadata": {},
   "outputs": [
    {
     "name": "stdout",
     "output_type": "stream",
     "text": [
      "Metrics for 2 qubits: {'depth': 7, 'width': 3, 'cx_count': 4}\n",
      "Metrics for 3 qubits: {'depth': 12, 'width': 4, 'cx_count': 8}\n",
      "Metrics for 4 qubits: {'depth': 21, 'width': 5, 'cx_count': 16}\n",
      "Metrics for 5 qubits: {'depth': 38, 'width': 6, 'cx_count': 32}\n",
      "Metrics for 6 qubits: {'depth': 71, 'width': 7, 'cx_count': 64}\n",
      "Metrics for 7 qubits: {'depth': 136, 'width': 8, 'cx_count': 128}\n",
      "Metrics for 8 qubits: {'depth': 265, 'width': 9, 'cx_count': 256}\n",
      "Metrics for 9 qubits: {'depth': 522, 'width': 10, 'cx_count': 512}\n"
     ]
    }
   ],
   "source": [
    "for nqbits in range(2, 10):\n",
    "    qprog = create_classis_program(num_qubits=nqbits)\n",
    "    metrics = get_metrics(qprog)\n",
    "    print(f\"Metrics for {nqbits} qubits: {metrics}\")"
   ]
  }
 ],
 "metadata": {
  "kernelspec": {
   "display_name": "Python 3",
   "language": "python",
   "name": "python3"
  },
  "language_info": {
   "codemirror_mode": {
    "name": "ipython",
    "version": 3
   },
   "file_extension": ".py",
   "mimetype": "text/x-python",
   "name": "python",
   "nbconvert_exporter": "python",
   "pygments_lexer": "ipython3",
   "version": "3.12.4"
  }
 },
 "nbformat": 4,
 "nbformat_minor": 2
}
