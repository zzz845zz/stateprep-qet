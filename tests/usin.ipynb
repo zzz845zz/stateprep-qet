{
 "cells": [
  {
   "cell_type": "code",
   "execution_count": null,
   "metadata": {},
   "outputs": [
    {
     "name": "stdout",
     "output_type": "stream",
     "text": [
      "{'depth': 12, 'width': 5, 'cx_count': 8}\n"
     ]
    }
   ],
   "source": [
    "from classiq import QuantumProgram\n",
    "from typing import Dict\n",
    "import numpy as np\n",
    "from classiq import *\n",
    "from stateprep_qet.utils import amp_to_prob, find_angle, normalize\n",
    "from classiq.execution import ClassiqBackendPreferences, ExecutionPreferences\n",
    "from classiq.qmod.symbolic import sin, cos\n",
    "\n",
    "NUM_QUBITS = 3  # U is applied to these qubits\n",
    "POLY_DEGREE = 5\n",
    "POLY_FUNC = lambda x: x\n",
    "POLY_MAX_SCALE = 1\n",
    "\n",
    "\n",
    "@qfunc\n",
    "def projector_cnot(reg: QNum, aux: QBit) -> None:\n",
    "    control(reg == 0, lambda: X(aux))\n",
    "\n",
    "\n",
    "@qfunc\n",
    "def u_sin(x: QNum, a: QNum) -> None:\n",
    "    a *= sin(x / (2**NUM_QUBITS))  # Amplitude encoding sin(x) to |1>\n",
    "    X(a)  # sin(x) to |0>\n",
    "\n",
    "\n",
    "@qfunc\n",
    "def main(x: Output[QNum], ind: Output[QNum], aux: Output[QBit]):\n",
    "    allocate(NUM_QUBITS, x)\n",
    "    allocate(1, ind)\n",
    "    allocate(1, aux)\n",
    "\n",
    "    # # Construct equal superposition of all states\n",
    "    # hadamard_transform(x)\n",
    "    u_sin(x, ind)\n",
    "\n",
    "qmod = create_model(\n",
    "    main,\n",
    "    constraints=Constraints(max_width=100),\n",
    "    execution_preferences=ExecutionPreferences(\n",
    "        num_shots=1,\n",
    "        backend_preferences=ClassiqBackendPreferences(\n",
    "            backend_name=\"simulator_statevector\"\n",
    "        ),\n",
    "    ),\n",
    "    out_file=\"qsvt\",\n",
    ")\n",
    "\n",
    "\n",
    "\n",
    "def get_metrics(qprog):\n",
    "    \"\"\"\n",
    "    Extract circuit metrics from a quantum program.\n",
    "\n",
    "    Parameters:\n",
    "        qprog: The quantum program object.\n",
    "\n",
    "    Returns:\n",
    "        dict: A dictionary containing the circuit metrics:\n",
    "              - \"depth\": Circuit depth.\n",
    "              - \"width\": Circuit width (number of qubits used).\n",
    "              - \"cx_count\": Number of CX gates (returns 0 if none are present).\n",
    "    \"\"\"\n",
    "    # Generate the optimized quantum circuit\n",
    "    circuit = QuantumProgram.from_qprog(qprog)\n",
    "\n",
    "    # Extract metrics\n",
    "    metrics = {\n",
    "        \"depth\": circuit.transpiled_circuit.depth,\n",
    "        \"width\": circuit.data.width,\n",
    "        \"cx_count\": circuit.transpiled_circuit.count_ops.get('cx', 0)  # Default to 0 if 'cx' not found\n",
    "    }\n",
    "\n",
    "    return metrics\n",
    "\n",
    "# Print circuit metrics\n",
    "qprog = synthesize(qmod)\n",
    "print(get_metrics(qprog))"
   ]
  },
  {
   "cell_type": "code",
   "execution_count": null,
   "metadata": {},
   "outputs": [],
   "source": []
  }
 ],
 "metadata": {
  "kernelspec": {
   "display_name": "stateprep-qet-J28Ziice-py3.12",
   "language": "python",
   "name": "python3"
  },
  "language_info": {
   "codemirror_mode": {
    "name": "ipython",
    "version": 3
   },
   "file_extension": ".py",
   "mimetype": "text/x-python",
   "name": "python",
   "nbconvert_exporter": "python",
   "pygments_lexer": "ipython3",
   "version": "3.12.4"
  }
 },
 "nbformat": 4,
 "nbformat_minor": 2
}
